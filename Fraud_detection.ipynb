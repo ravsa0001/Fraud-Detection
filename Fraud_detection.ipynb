{
 "cells": [
  {
   "cell_type": "markdown",
   "id": "dce1ebb0-f5a9-44d0-a8d2-a8e8eefaaaf8",
   "metadata": {},
   "source": [
    "**Importing the neccessary libraries**"
   ]
  },
  {
   "cell_type": "code",
   "execution_count": null,
   "id": "9d266e69-4f1b-4b49-a233-13e78801d541",
   "metadata": {},
   "outputs": [],
   "source": [
    "import numpy as np\n",
    "import pandas as pd\n",
    "from sklearn.preprocessing import LabelEncoder\n",
    "from statsmodels.stats.outliers_influence import variance_inflation_factor\n",
    "from sklearn.model_selection import train_test_split\n",
    "from sklearn.linear_model import LogisticRegression\n",
    "from sklearn.tree import DecisionTreeClassifier\n",
    "from sklearn.ensemble import RandomForestClassifier\n",
    "from sklearn.metrics import confusion_matrix, classification_report"
   ]
  },
  {
   "cell_type": "markdown",
   "id": "9573948d-dfa1-49d5-a550-7a2b10720991",
   "metadata": {},
   "source": [
    "**Loading the data**"
   ]
  },
  {
   "cell_type": "code",
   "execution_count": null,
   "id": "0454e866-38e6-4f18-b591-afce0d1a3351",
   "metadata": {},
   "outputs": [],
   "source": [
    "data = pd.read_csv(\"Fraud.csv\", nrows = 100000)"
   ]
  },
  {
   "cell_type": "code",
   "execution_count": null,
   "id": "cb46c8f5-7a42-49c4-900b-895b889ad7bc",
   "metadata": {},
   "outputs": [],
   "source": [
    "data.head()"
   ]
  },
  {
   "cell_type": "markdown",
   "id": "ee595379-7aab-4656-b46b-c00027324f10",
   "metadata": {},
   "source": [
    "**Analysis**"
   ]
  },
  {
   "cell_type": "code",
   "execution_count": null,
   "id": "107deb39-c7b5-4b6f-b264-6ac334c2420e",
   "metadata": {},
   "outputs": [],
   "source": [
    "# Checking for null values\n",
    "data.isnull().values.any()"
   ]
  },
  {
   "cell_type": "code",
   "execution_count": null,
   "id": "3203a11c-4c40-4c29-ac09-8f8c3d7209c8",
   "metadata": {},
   "outputs": [],
   "source": [
    "legit = len(data[data.isFraud == 0])\n",
    "fraud = len(data[data.isFraud == 1])\n",
    "legit_percent = (legit / len(data.isFraud)) * 100\n",
    "fraud_percent = (fraud / len(data.isFraud)) * 100\n",
    "\n",
    "print(f\"Percentage of Legit transactions: {legit_percent} %\")\n",
    "print(f\"Percentage of Fraud transactions: {fraud_percent} %\")"
   ]
  },
  {
   "cell_type": "markdown",
   "id": "4d8d82da-9e7a-4353-b2a1-ab594ac905a4",
   "metadata": {},
   "source": [
    "These results prove that this is a highly unbalanced data as Percentage of Legit transactions = 99.87 % and Percentage of Fraud transactions= 0.13 %. So DECISION TREES and RANDOM FORESTS are the good methods for imbalanced data."
   ]
  },
  {
   "cell_type": "markdown",
   "id": "68bfef87-7cf1-4273-af34-d72dcee97c74",
   "metadata": {},
   "source": [
    "**Label Encoding**"
   ]
  },
  {
   "cell_type": "code",
   "execution_count": null,
   "id": "41bc788e-ec7a-496b-904f-75df8d875d0f",
   "metadata": {},
   "outputs": [],
   "source": [
    "# Checking how many attributes are dtype: object\n",
    "objList = data.select_dtypes(include = \"object\").columns\n",
    "\n",
    "# Label Encoding for the object to numeric conversion\n",
    "le = LabelEncoder()\n",
    "for feat in objList:\n",
    "    data[feat] = le.fit_transform(data[feat].astype(str))"
   ]
  },
  {
   "cell_type": "markdown",
   "id": "1a0ebe8a-c456-4944-953a-e8e9fe5efdc3",
   "metadata": {},
   "source": [
    "**Multicolinearity** Checking the corelation"
   ]
  },
  {
   "cell_type": "code",
   "execution_count": null,
   "id": "414c7695-1811-4227-925a-6c199fe943c9",
   "metadata": {},
   "outputs": [],
   "source": [
    "def vif_cal(data):\n",
    "    vifact = pd.DataFrame()\n",
    "    vifact[\"variables\"] = data.columns\n",
    "    vifact[\"VIF\"] = [variance_inflation_factor(data.values, i) for i in range(data.shape[1])]\n",
    "\n",
    "    return(vif)\n",
    "\n",
    "vif_cal(data)"
   ]
  },
  {
   "cell_type": "markdown",
   "id": "d1e2c29c-452b-4bfb-be85-7212f5a18d4b",
   "metadata": {},
   "source": [
    "Output"
   ]
  },
  {
   "cell_type": "raw",
   "id": "1b81297f-ba22-4cb6-8bb4-57c90f188535",
   "metadata": {},
   "source": [
    "    variables\t        VIF\n",
    "0\tstep\t         2.791610\n",
    "1\ttype\t         4.467405\n",
    "2\tamount           4.149312\n",
    "3\tnameOrig\t     2.764234\n",
    "4\toldbalanceOrg\t 576.803777\n",
    "5\tnewbalanceOrig\t 582.709128\n",
    "6\tnameDest\t     3.300975\n",
    "7\toldbalanceDest\t 73.349937\n",
    "8\tnewbalanceDest\t 85.005614\n",
    "9\tisFraud\t         1.195305\n",
    "10\tisFlaggedFraud\t 1.002587"
   ]
  },
  {
   "cell_type": "markdown",
   "id": "23ea4d98-6551-467f-b525-d66613d1b3d3",
   "metadata": {},
   "source": [
    "How did you select variables to be included in the model? Using the VIF values, we just need to check if there are any two attributes highly correlated to each other and then drop the one which is less correlated to the isFraud Attribute."
   ]
  },
  {
   "cell_type": "markdown",
   "id": "108cdc1a-e02c-4f90-b9d1-3315cf8a870f",
   "metadata": {},
   "source": [
    "As we can see the that oldbalanceOrg, newbalanceOrig, oldbalanceGest and newbalanceDesst have high VIF thus they are highly correlated. So, dropping these attributes"
   ]
  },
  {
   "cell_type": "code",
   "execution_count": null,
   "id": "7b5173d7-e0c0-49c3-bb9d-9aee5857d1fd",
   "metadata": {},
   "outputs": [],
   "source": [
    "data['Actual_amount'] = data.apply(lambda x: x['oldbalanceDest'] - x['newbalanceDest'],axis=1)\n",
    "\n",
    "#Dropping columns\n",
    "data = data.drop(['oldbalanceOrg','newbalanceOrig','oldbalanceDest','newbalanceDest','step','nameOrig','nameDest'],axis=1)\n",
    "vif_cal(data)"
   ]
  },
  {
   "cell_type": "markdown",
   "id": "0131cd56-7742-4567-bd86-fa41abf78f9c",
   "metadata": {},
   "source": [
    "Output"
   ]
  },
  {
   "cell_type": "raw",
   "id": "0a2eeafb-235e-4e7d-aa56-3d42134d218c",
   "metadata": {},
   "source": [
    "    variables           VIF\n",
    "0\ttype\t          1.083752\n",
    "1\tamount\t          3.631113\n",
    "2\tisFraud\t          1.014436\n",
    "3\tisFlaggedFraud\t  1.002293\n",
    "4\tActual_amount\t  3.509206"
   ]
  },
  {
   "cell_type": "markdown",
   "id": "f6d98542-bf9b-48b9-8e74-107a0583552b",
   "metadata": {},
   "source": [
    "**Selecting the dependent and independent variables**"
   ]
  },
  {
   "cell_type": "code",
   "execution_count": null,
   "id": "d6bde1e3-3591-4eac-a73b-a185ab389123",
   "metadata": {},
   "outputs": [],
   "source": [
    "Y = data[\"isFraud\"]\n",
    "X = data.drop([\"isFraud\"], axis= 1)"
   ]
  },
  {
   "cell_type": "markdown",
   "id": "77bd6762-26b3-48d6-8869-8dc201740561",
   "metadata": {},
   "source": [
    "**Train-Test Split**"
   ]
  },
  {
   "cell_type": "code",
   "execution_count": null,
   "id": "fcd911f5-c805-44d2-8cf9-82083105474f",
   "metadata": {},
   "outputs": [],
   "source": [
    "(X_train, X_test, Y_train, Y_test) = train_test_split(X, Y, test_size= 0.3)"
   ]
  },
  {
   "cell_type": "markdown",
   "id": "1b163ada-1809-455e-906e-b2bb4237e491",
   "metadata": {},
   "source": [
    "**Model Training**"
   ]
  },
  {
   "cell_type": "code",
   "execution_count": null,
   "id": "7f6b318c-9920-43d3-a4b1-de947f6a9beb",
   "metadata": {},
   "outputs": [],
   "source": [
    "# Logistic Regression\n",
    "\n",
    "logistic_regression = LogisticRegression(random_state = 0)\n",
    "logistic_regression.fit(X_train, Y_train)\n",
    "\n",
    "Y_pred_lr = logistic_regression.predict(X_test)\n",
    "class_score = logistic_regression.score(X_test, Y_test) * 100"
   ]
  },
  {
   "cell_type": "code",
   "execution_count": null,
   "id": "550bc540-d83c-4d94-ad55-8c6f2ed4c46c",
   "metadata": {},
   "outputs": [],
   "source": [
    "# Decision Tree\n",
    "\n",
    "decision_tree = DecisionTreeClassifier()\n",
    "decision_tree.fit(X_train, Y_train)\n",
    "\n",
    "Y_pred_dt = decision_tree.predict(X_test)\n",
    "decision_tree_score = decision_tree.score(X_test, Y_test) * 100"
   ]
  },
  {
   "cell_type": "code",
   "execution_count": null,
   "id": "6928e115-6cda-47e2-9db6-b2d19d2c3105",
   "metadata": {},
   "outputs": [],
   "source": [
    "# Random Forest\n",
    "\n",
    "random_forest = RandomForestClassifier(n_estimators= 100)\n",
    "random_forest.fit(X_train, Y_train)\n",
    "\n",
    "Y_pred_rf = random_forest.predict(X_test)\n",
    "random_forest_score = random_forest.score(X_test, Y_test) * 100"
   ]
  },
  {
   "cell_type": "markdown",
   "id": "40560013-d530-4845-a195-1439506bf47d",
   "metadata": {},
   "source": [
    "**Evaluation**"
   ]
  },
  {
   "cell_type": "code",
   "execution_count": null,
   "id": "ff9afa1a-b957-4ba5-a7ad-e3a0515a4801",
   "metadata": {},
   "outputs": [],
   "source": [
    "print(\"Decision Score: \", class_score)\n",
    "print(\"Decision Tree Score: \", decision_tree_score)\n",
    "print(\"Random Forest Score: \", random_forest_score)"
   ]
  },
  {
   "cell_type": "code",
   "execution_count": null,
   "id": "0e7539b1-5cbf-420f-9bdd-dc6c58ff5fe3",
   "metadata": {},
   "outputs": [],
   "source": [
    "# confusion matrix - LR\n",
    "\n",
    "confusion_matrix_lr = confusion_matrix(Y_test, Y_pred_lr.round())\n",
    "print(\"Confusion Matrix - Logistic Regression\")\n",
    "print(confusion_matrix_lr)\n",
    "\n",
    "print(\"----------------------------------------------------------------------------------------\")\n",
    "\n",
    "# confusion matrix - DT\n",
    "\n",
    "confusion_matrix_dt = confusion_matrix(Y_test, Y_pred_dt.round())\n",
    "print(\"Confusion Matrix - Decision Tree\")\n",
    "print(confusion_matrix_dt)\n",
    "\n",
    "print(\"----------------------------------------------------------------------------------------\")\n",
    "\n",
    "# confusion matrix - RF\n",
    "\n",
    "confusion_matrix_rf = confusion_matrix(Y_test, Y_pred_rf.round())\n",
    "print(\"Confusion Matrix - Random Forest\")\n",
    "print(confusion_matrix_rf)"
   ]
  },
  {
   "cell_type": "markdown",
   "id": "b1551688-7bcb-47f1-9ed4-57331a112f88",
   "metadata": {},
   "source": [
    "Output"
   ]
  },
  {
   "cell_type": "raw",
   "id": "b5d8f43f-1514-407b-b675-adfe7e220342",
   "metadata": {},
   "source": [
    "Confusion Matrix - Logistic Regression\n",
    "[[1906101     176]\n",
    " [   2509       0]]\n",
    "----------------------------------------------------------------------------------------\n",
    "Confusion Matrix - Decision Tree\n",
    "[[1905377     900]\n",
    " [    926    1583]]\n",
    "----------------------------------------------------------------------------------------\n",
    "Confusion Matrix - Random Forest\n",
    "[[1905461     816]\n",
    " [    925    1584]]"
   ]
  },
  {
   "cell_type": "markdown",
   "id": "99f5b607-29f6-4fa9-a019-3d6b69b5b8f4",
   "metadata": {},
   "source": [
    "."
   ]
  },
  {
   "cell_type": "code",
   "execution_count": null,
   "id": "b985da7d-d7e8-4216-89b8-98cd08995a78",
   "metadata": {},
   "outputs": [],
   "source": [
    "print(\"TP,FP,TN,FN - Decision Tree\")\n",
    "tn, fp, fn, tp = confusion_matrix(Y_test, Y_pred_dt).ravel()\n",
    "print(f'True Positives: {tp}')\n",
    "print(f'False Positives: {fp}')\n",
    "print(f'True Negatives: {tn}')\n",
    "print(f'False Negatives: {fn}')\n",
    "\n",
    "print(\"----------------------------------------------------------------------------------------\")\n",
    "\n",
    "# key terms of Confusion Matrix - RF\n",
    "\n",
    "print(\"TP,FP,TN,FN - Random Forest\")\n",
    "tn, fp, fn, tp = confusion_matrix(Y_test, Y_pred_rf).ravel()\n",
    "print(f'True Positives: {tp}')\n",
    "print(f'False Positives: {fp}')\n",
    "print(f'True Negatives: {tn}')\n",
    "print(f'False Negatives: {fn}')"
   ]
  },
  {
   "cell_type": "markdown",
   "id": "455087f6-977e-45cc-a6bf-d5af163f77fd",
   "metadata": {},
   "source": [
    "Output"
   ]
  },
  {
   "cell_type": "raw",
   "id": "7138ae1f-fb57-4347-b235-5602a2fee611",
   "metadata": {},
   "source": [
    "TP,FP,TN,FN - Decision Tree\n",
    "True Positives: 1583\n",
    "False Positives: 900\n",
    "True Negatives: 1905377\n",
    "False Negatives: 926\n",
    "----------------------------------------------------------------------------------------\n",
    "TP,FP,TN,FN - Random Forest\n",
    "True Positives: 1584\n",
    "False Positives: 816\n",
    "True Negatives: 1905461\n",
    "False Negatives: 925"
   ]
  },
  {
   "cell_type": "markdown",
   "id": "8942894a-cced-4d9f-9912-4d367a52ca07",
   "metadata": {},
   "source": [
    "Here Random Forest looks better"
   ]
  },
  {
   "cell_type": "code",
   "execution_count": null,
   "id": "b5a91348-a41c-4371-973f-235231b2fc0a",
   "metadata": {},
   "outputs": [],
   "source": [
    "# classification report - DT\n",
    "\n",
    "classification_report_lr = classification_report(Y_test, Y_pred_lr)\n",
    "print(\"Classification Report - Logistic Regression\")\n",
    "print(classification_report_lr)\n",
    "\n",
    "print(\"----------------------------------------------------------------------------------------\")\n",
    "\n",
    "# classification report - DT\n",
    "\n",
    "classification_report_dt = classification_report(Y_test, Y_pred_dt)\n",
    "print(\"Classification Report - Decision Tree\")\n",
    "print(classification_report_dt)\n",
    "\n",
    "print(\"----------------------------------------------------------------------------------------\")\n",
    "\n",
    "# classification report - RF\n",
    "\n",
    "classification_report_rf = classification_report(Y_test, Y_pred_rf)\n",
    "print(\"Classification Report - Random Forest\")\n",
    "print(classification_report_rf)"
   ]
  },
  {
   "cell_type": "markdown",
   "id": "7e276c21-e482-4cbe-a6c8-62a7ba0d8e4e",
   "metadata": {},
   "source": [
    "Output"
   ]
  },
  {
   "cell_type": "raw",
   "id": "c4530132-8c96-48c8-8cfa-399741666c24",
   "metadata": {},
   "source": [
    "\n",
    "Classification Report - Logistic Regression\n",
    "              precision    recall  f1-score   support\n",
    "\n",
    "           0       1.00      1.00      1.00   1906277\n",
    "           1       0.00      0.00      0.00      2509\n",
    "\n",
    "    accuracy                           1.00   1908786\n",
    "   macro avg       0.50      0.50      0.50   1908786\n",
    "weighted avg       1.00      1.00      1.00   1908786\n",
    "\n",
    "----------------------------------------------------------------------------------------\n",
    "Classification Report - Decision Tree\n",
    "              precision    recall  f1-score   support\n",
    "\n",
    "           0       1.00      1.00      1.00   1906277\n",
    "           1       0.64      0.63      0.63      2509\n",
    "\n",
    "    accuracy                           1.00   1908786\n",
    "   macro avg       0.82      0.82      0.82   1908786\n",
    "weighted avg       1.00      1.00      1.00   1908786\n",
    "\n",
    "----------------------------------------------------------------------------------------\n",
    "Classification Report - Random Forest\n",
    "              precision    recall  f1-score   support\n",
    "\n",
    "           0       1.00      1.00      1.00   1906277\n",
    "           1       0.66      0.63      0.65      2509\n",
    "\n",
    "    accuracy                           1.00   1908786\n",
    "   macro avg       0.83      0.82      0.82   1908786\n",
    "weighted avg       1.00      1.00      1.00   1908786"
   ]
  },
  {
   "cell_type": "code",
   "execution_count": null,
   "id": "0eadd7e4-a1c2-4a58-ae0e-bbad051d26de",
   "metadata": {},
   "outputs": [],
   "source": []
  },
  {
   "cell_type": "markdown",
   "id": "a0cf66c1-6b61-4a84-bc23-9d4838c784b7",
   "metadata": {},
   "source": [
    "**Conclusion**\n",
    "\n",
    "We can see that Accuracy for both RandomForest and DecisionTree is equal, although the precision of Random Forest is better. In the fraud detection model, Precision is more important rather than predicting normal transactions correctly. We want Fraud Transactions to be predicted correctly and legit to be left off. If either of the 2 reasons are not fulfiiled we may catch the innocent and leave the culprit. This is also one of the reason why Random Forest and Decision Tree are used instead of other algorithms.\n",
    "\n",
    "What are the key factors that predict fraudulent customer?\n",
    "\n",
    "1. The source of request is secured or not\n",
    "2. Transaction history of vendors.\n",
    "\n",
    "\n",
    "What kind of prevention should be adopted while company update its infrastructure?\n",
    "\n",
    "1. Use smart vertified apps only.\n",
    "2. Browse through secured websites.\n",
    "3. Keep your mobile and laptop security updated.\n",
    "4. Don't respond to unsolicited calls/SMS(s/E-mails.\n",
    "5. If you feel like you have been tricked or security compromised, contact your bank immidiately.\n",
    "\n",
    "\n",
    "Assuming these actions have been implemented, how would you determine if they work?\n",
    "\n",
    "1. Bank sending E-statements.\n",
    "2. Customers keeping a check of their account activity.\n",
    "3. Always keep a log of your payments."
   ]
  }
 ],
 "metadata": {
  "kernelspec": {
   "display_name": "Python 3 (ipykernel)",
   "language": "python",
   "name": "python3"
  },
  "language_info": {
   "codemirror_mode": {
    "name": "ipython",
    "version": 3
   },
   "file_extension": ".py",
   "mimetype": "text/x-python",
   "name": "python",
   "nbconvert_exporter": "python",
   "pygments_lexer": "ipython3",
   "version": "3.10.12"
  }
 },
 "nbformat": 4,
 "nbformat_minor": 5
}
